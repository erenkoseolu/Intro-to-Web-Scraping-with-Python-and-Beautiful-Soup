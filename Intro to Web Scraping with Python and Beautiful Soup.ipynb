{
 "cells": [
  {
   "cell_type": "code",
   "execution_count": 1,
   "metadata": {},
   "outputs": [],
   "source": [
    "from urllib.request import urlopen as uReq\n",
    "from bs4 import BeautifulSoup"
   ]
  },
  {
   "cell_type": "code",
   "execution_count": 2,
   "metadata": {},
   "outputs": [],
   "source": [
    "url= \"https://www.newegg.com/Video-Cards-Video-Devices/Category/ID-38?Tpk=graphics+cards\""
   ]
  },
  {
   "cell_type": "code",
   "execution_count": 3,
   "metadata": {},
   "outputs": [],
   "source": [
    "#Burada web sitesi açılır ve sitedeki içerikler indirilir.\n",
    "\n",
    "client=uReq(url)"
   ]
  },
  {
   "cell_type": "code",
   "execution_count": 4,
   "metadata": {},
   "outputs": [],
   "source": [
    "#Sonra bu sayfadaki her şeyi okuduk ve bir değişkene kaydettik\n",
    "\n",
    "page_html=client.read()"
   ]
  },
  {
   "cell_type": "code",
   "execution_count": 5,
   "metadata": {},
   "outputs": [],
   "source": [
    "client.close()"
   ]
  },
  {
   "cell_type": "code",
   "execution_count": 6,
   "metadata": {},
   "outputs": [],
   "source": [
    "page_soup= BeautifulSoup(page_html, \"html.parser\")"
   ]
  },
  {
   "cell_type": "code",
   "execution_count": 13,
   "metadata": {},
   "outputs": [],
   "source": [
    "containers= page_soup.findAll(\"div\", {\"class\": \"item-container\"})"
   ]
  },
  {
   "cell_type": "code",
   "execution_count": 14,
   "metadata": {},
   "outputs": [
    {
     "data": {
      "text/plain": [
       "12"
      ]
     },
     "execution_count": 14,
     "metadata": {},
     "output_type": "execute_result"
    }
   ],
   "source": [
    "len(containers)"
   ]
  },
  {
   "cell_type": "code",
   "execution_count": 24,
   "metadata": {},
   "outputs": [],
   "source": [
    "contain=containers[0]"
   ]
  },
  {
   "cell_type": "code",
   "execution_count": 37,
   "metadata": {},
   "outputs": [
    {
     "name": "stdout",
     "output_type": "stream",
     "text": [
      "MSI\n"
     ]
    }
   ],
   "source": [
    "print(contain.div.div.a.img[\"title\"])\n"
   ]
  },
  {
   "cell_type": "code",
   "execution_count": 99,
   "metadata": {},
   "outputs": [],
   "source": [
    "name=\"C:\\\\Users\\\\Lenovo\\\\Desktop\\\\Data_Mining\\\\eren.csv\"\n",
    "f=open(name, \"w\")\n",
    "for contain in containers:\n",
    "    brand=contain.div.div.a.img[\"title\"]\n",
    "    product_name=contain.findAll(\"a\", {\"class\": \"item-title\"})[0].text\n",
    "    price_ship=contain.findAll(\"li\", {\"class\": \"price-ship\"})[0].text\n",
    "    price=contain.findAll(\"li\", {\"class\": \"price-current\"})[0].strong.text\n",
    "    \n",
    "   \n",
    "    f.write(brand+\",\"+product_name.replace(\",\", \"|\")+\",\"+price_ship+\",\"+price+\"\\n\")"
   ]
  }
 ],
 "metadata": {
  "kernelspec": {
   "display_name": "Python 3",
   "language": "python",
   "name": "python3"
  },
  "language_info": {
   "codemirror_mode": {
    "name": "ipython",
    "version": 3
   },
   "file_extension": ".py",
   "mimetype": "text/x-python",
   "name": "python",
   "nbconvert_exporter": "python",
   "pygments_lexer": "ipython3",
   "version": "3.7.4"
  }
 },
 "nbformat": 4,
 "nbformat_minor": 2
}
